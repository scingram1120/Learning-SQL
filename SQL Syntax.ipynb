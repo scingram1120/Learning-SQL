{
 "cells": [
  {
   "cell_type": "code",
   "execution_count": 10,
   "id": "5374828a",
   "metadata": {},
   "outputs": [
    {
     "name": "stdout",
     "output_type": "stream",
     "text": [
      "Requirement already satisfied: ipython-sql in /Users/shannoningram/opt/anaconda3/lib/python3.9/site-packages (0.5.0)\n",
      "Requirement already satisfied: prettytable in /Users/shannoningram/opt/anaconda3/lib/python3.9/site-packages (from ipython-sql) (3.7.0)\n",
      "Requirement already satisfied: ipython in /Users/shannoningram/opt/anaconda3/lib/python3.9/site-packages (from ipython-sql) (8.2.0)\n",
      "Requirement already satisfied: sqlalchemy>=2.0 in /Users/shannoningram/opt/anaconda3/lib/python3.9/site-packages (from ipython-sql) (2.0.12)\n",
      "Requirement already satisfied: sqlparse in /Users/shannoningram/opt/anaconda3/lib/python3.9/site-packages (from ipython-sql) (0.4.4)\n",
      "Requirement already satisfied: six in /Users/shannoningram/opt/anaconda3/lib/python3.9/site-packages (from ipython-sql) (1.16.0)\n",
      "Requirement already satisfied: ipython-genutils in /Users/shannoningram/opt/anaconda3/lib/python3.9/site-packages (from ipython-sql) (0.2.0)\n",
      "Requirement already satisfied: typing-extensions>=4.2.0 in /Users/shannoningram/opt/anaconda3/lib/python3.9/site-packages (from sqlalchemy>=2.0->ipython-sql) (4.5.0)\n",
      "Requirement already satisfied: greenlet!=0.4.17 in /Users/shannoningram/opt/anaconda3/lib/python3.9/site-packages (from sqlalchemy>=2.0->ipython-sql) (1.1.1)\n",
      "Requirement already satisfied: backcall in /Users/shannoningram/opt/anaconda3/lib/python3.9/site-packages (from ipython->ipython-sql) (0.2.0)\n",
      "Requirement already satisfied: decorator in /Users/shannoningram/opt/anaconda3/lib/python3.9/site-packages (from ipython->ipython-sql) (5.1.1)\n",
      "Requirement already satisfied: jedi>=0.16 in /Users/shannoningram/opt/anaconda3/lib/python3.9/site-packages (from ipython->ipython-sql) (0.18.1)\n",
      "Requirement already satisfied: matplotlib-inline in /Users/shannoningram/opt/anaconda3/lib/python3.9/site-packages (from ipython->ipython-sql) (0.1.2)\n",
      "Requirement already satisfied: pickleshare in /Users/shannoningram/opt/anaconda3/lib/python3.9/site-packages (from ipython->ipython-sql) (0.7.5)\n",
      "Requirement already satisfied: prompt-toolkit!=3.0.0,!=3.0.1,<3.1.0,>=2.0.0 in /Users/shannoningram/opt/anaconda3/lib/python3.9/site-packages (from ipython->ipython-sql) (3.0.20)\n",
      "Requirement already satisfied: pygments>=2.4.0 in /Users/shannoningram/opt/anaconda3/lib/python3.9/site-packages (from ipython->ipython-sql) (2.11.2)\n",
      "Requirement already satisfied: setuptools>=18.5 in /Users/shannoningram/opt/anaconda3/lib/python3.9/site-packages (from ipython->ipython-sql) (61.2.0)\n",
      "Requirement already satisfied: stack-data in /Users/shannoningram/opt/anaconda3/lib/python3.9/site-packages (from ipython->ipython-sql) (0.2.0)\n",
      "Requirement already satisfied: traitlets>=5 in /Users/shannoningram/opt/anaconda3/lib/python3.9/site-packages (from ipython->ipython-sql) (5.1.1)\n",
      "Requirement already satisfied: pexpect>4.3 in /Users/shannoningram/opt/anaconda3/lib/python3.9/site-packages (from ipython->ipython-sql) (4.8.0)\n",
      "Requirement already satisfied: appnope in /Users/shannoningram/opt/anaconda3/lib/python3.9/site-packages (from ipython->ipython-sql) (0.1.2)\n",
      "Requirement already satisfied: wcwidth in /Users/shannoningram/opt/anaconda3/lib/python3.9/site-packages (from prettytable->ipython-sql) (0.2.5)\n",
      "Requirement already satisfied: parso<0.9.0,>=0.8.0 in /Users/shannoningram/opt/anaconda3/lib/python3.9/site-packages (from jedi>=0.16->ipython->ipython-sql) (0.8.3)\n",
      "Requirement already satisfied: ptyprocess>=0.5 in /Users/shannoningram/opt/anaconda3/lib/python3.9/site-packages (from pexpect>4.3->ipython->ipython-sql) (0.7.0)\n",
      "Requirement already satisfied: executing in /Users/shannoningram/opt/anaconda3/lib/python3.9/site-packages (from stack-data->ipython->ipython-sql) (0.8.3)\n",
      "Requirement already satisfied: asttokens in /Users/shannoningram/opt/anaconda3/lib/python3.9/site-packages (from stack-data->ipython->ipython-sql) (2.0.5)\n",
      "Requirement already satisfied: pure-eval in /Users/shannoningram/opt/anaconda3/lib/python3.9/site-packages (from stack-data->ipython->ipython-sql) (0.2.2)\n"
     ]
    }
   ],
   "source": [
    "import SQL\n",
    "SQL.import_SQL()"
   ]
  },
  {
   "cell_type": "code",
   "execution_count": 11,
   "id": "9a366978",
   "metadata": {},
   "outputs": [
    {
     "name": "stdout",
     "output_type": "stream",
     "text": [
      "The sql extension is already loaded. To reload it, use:\n",
      "  %reload_ext sql\n"
     ]
    }
   ],
   "source": [
    "%load_ext sql\n"
   ]
  },
  {
   "cell_type": "code",
   "execution_count": 12,
   "id": "ac88ad95",
   "metadata": {},
   "outputs": [],
   "source": [
    "%sql sqlite://\n"
   ]
  },
  {
   "cell_type": "code",
   "execution_count": 4,
   "id": "59488120",
   "metadata": {},
   "outputs": [
    {
     "name": "stdout",
     "output_type": "stream",
     "text": [
      " * sqlite://\n",
      "Done.\n",
      "6 rows affected.\n"
     ]
    },
    {
     "data": {
      "text/plain": [
       "[]"
      ]
     },
     "execution_count": 4,
     "metadata": {},
     "output_type": "execute_result"
    }
   ],
   "source": [
    "%%sql\n",
    "CREATE TABLE sales\n",
    "(\n",
    "    key       varchar(6),\n",
    "    ts        timestamp,\n",
    "    product   integer,\n",
    "    completed boolean,\n",
    "    price     float\n",
    ");\n",
    "INSERT INTO sales\n",
    "VALUES ('sale_1', '2019-11-08 00:00', 102230, TRUE, 1.1),\n",
    "       ('sale_2', '2019-11-08 01:00', 102320, FALSE, 1.2),\n",
    "       ('sale_3', '2019-11-08 01:00', 102010, TRUE, 1.3),\n",
    "       ('sale_4', '2019-11-08 01:00', 102023, FALSE, 1.4),\n",
    "       ('sale_5', '2019-11-08 02:00', 102008, TRUE, 1.5),\n",
    "       ('sale_6', '2019-11-08 02:00', 102913, TRUE, 1.5);\n",
    "    "
   ]
  },
  {
   "cell_type": "code",
   "execution_count": 13,
   "id": "b4a5ef86",
   "metadata": {},
   "outputs": [],
   "source": [
    " %reload_ext sql"
   ]
  },
  {
   "cell_type": "code",
   "execution_count": 14,
   "id": "99d758d1",
   "metadata": {},
   "outputs": [
    {
     "name": "stdout",
     "output_type": "stream",
     "text": [
      " * sqlite://\n",
      "Done.\n",
      "5 rows affected.\n"
     ]
    },
    {
     "data": {
      "text/plain": [
       "[]"
      ]
     },
     "execution_count": 14,
     "metadata": {},
     "output_type": "execute_result"
    }
   ],
   "source": [
    "%%sql\n",
    "CREATE TABLE grades\n",
    "\n",
    "(\n",
    "    class     varchar(10),\n",
    "    grade     integer,\n",
    "    credit    integer,\n",
    "    major     boolean,\n",
    "    minor     boolean\n",
    ");\n",
    "INSERT INTO grades\n",
    "VALUES ('CS303E', 78, 3, FALSE, FALSE),\n",
    "       ('PSY317L', 87, 3, TRUE, FALSE),\n",
    "       ('AFR305', 91, 3, FALSE, TRUE),\n",
    "       ('PSY420M', 86, 3, TRUE,FALSE),\n",
    "       ('PSY420P', 88, 3, TRUE, FALSE);\n",
    "    "
   ]
  },
  {
   "cell_type": "markdown",
   "id": "22cbe106",
   "metadata": {},
   "source": [
    "# Select\n",
    "SELECT: This is used to retrieve data from a database. You can use SELECT to specify which columns you want to retrieve, and from which table. For example, the following SQL statement retrieves all columns from the sales table:"
   ]
  },
  {
   "cell_type": "code",
   "execution_count": 5,
   "id": "8991accd",
   "metadata": {},
   "outputs": [
    {
     "name": "stdout",
     "output_type": "stream",
     "text": [
      " * sqlite://\n",
      "Done.\n"
     ]
    },
    {
     "data": {
      "text/html": [
       "<table>\n",
       "    <thead>\n",
       "        <tr>\n",
       "            <th>key</th>\n",
       "            <th>ts</th>\n",
       "            <th>product</th>\n",
       "            <th>completed</th>\n",
       "            <th>price</th>\n",
       "        </tr>\n",
       "    </thead>\n",
       "    <tbody>\n",
       "        <tr>\n",
       "            <td>sale_1</td>\n",
       "            <td>2019-11-08 00:00</td>\n",
       "            <td>102230</td>\n",
       "            <td>1</td>\n",
       "            <td>1.1</td>\n",
       "        </tr>\n",
       "        <tr>\n",
       "            <td>sale_2</td>\n",
       "            <td>2019-11-08 01:00</td>\n",
       "            <td>102320</td>\n",
       "            <td>0</td>\n",
       "            <td>1.2</td>\n",
       "        </tr>\n",
       "        <tr>\n",
       "            <td>sale_3</td>\n",
       "            <td>2019-11-08 01:00</td>\n",
       "            <td>102010</td>\n",
       "            <td>1</td>\n",
       "            <td>1.3</td>\n",
       "        </tr>\n",
       "        <tr>\n",
       "            <td>sale_4</td>\n",
       "            <td>2019-11-08 01:00</td>\n",
       "            <td>102023</td>\n",
       "            <td>0</td>\n",
       "            <td>1.4</td>\n",
       "        </tr>\n",
       "        <tr>\n",
       "            <td>sale_5</td>\n",
       "            <td>2019-11-08 02:00</td>\n",
       "            <td>102008</td>\n",
       "            <td>1</td>\n",
       "            <td>1.5</td>\n",
       "        </tr>\n",
       "        <tr>\n",
       "            <td>sale_6</td>\n",
       "            <td>2019-11-08 02:00</td>\n",
       "            <td>102913</td>\n",
       "            <td>1</td>\n",
       "            <td>1.5</td>\n",
       "        </tr>\n",
       "    </tbody>\n",
       "</table>"
      ],
      "text/plain": [
       "[('sale_1', '2019-11-08 00:00', 102230, 1, 1.1),\n",
       " ('sale_2', '2019-11-08 01:00', 102320, 0, 1.2),\n",
       " ('sale_3', '2019-11-08 01:00', 102010, 1, 1.3),\n",
       " ('sale_4', '2019-11-08 01:00', 102023, 0, 1.4),\n",
       " ('sale_5', '2019-11-08 02:00', 102008, 1, 1.5),\n",
       " ('sale_6', '2019-11-08 02:00', 102913, 1, 1.5)]"
      ]
     },
     "execution_count": 5,
     "metadata": {},
     "output_type": "execute_result"
    }
   ],
   "source": [
    "%%sql\n",
    "select * from sales;\n"
   ]
  },
  {
   "cell_type": "code",
   "execution_count": 17,
   "id": "4186eea1",
   "metadata": {},
   "outputs": [
    {
     "name": "stdout",
     "output_type": "stream",
     "text": [
      " * sqlite://\n",
      "Done.\n"
     ]
    },
    {
     "data": {
      "text/html": [
       "<table>\n",
       "    <thead>\n",
       "        <tr>\n",
       "            <th>class</th>\n",
       "            <th>grade</th>\n",
       "            <th>credit</th>\n",
       "            <th>major</th>\n",
       "            <th>minor</th>\n",
       "        </tr>\n",
       "    </thead>\n",
       "    <tbody>\n",
       "        <tr>\n",
       "            <td>CS303E</td>\n",
       "            <td>78</td>\n",
       "            <td>3</td>\n",
       "            <td>0</td>\n",
       "            <td>0</td>\n",
       "        </tr>\n",
       "        <tr>\n",
       "            <td>PSY317L</td>\n",
       "            <td>87</td>\n",
       "            <td>3</td>\n",
       "            <td>1</td>\n",
       "            <td>0</td>\n",
       "        </tr>\n",
       "        <tr>\n",
       "            <td>AFR305</td>\n",
       "            <td>91</td>\n",
       "            <td>3</td>\n",
       "            <td>0</td>\n",
       "            <td>1</td>\n",
       "        </tr>\n",
       "        <tr>\n",
       "            <td>PSY420M</td>\n",
       "            <td>86</td>\n",
       "            <td>3</td>\n",
       "            <td>1</td>\n",
       "            <td>0</td>\n",
       "        </tr>\n",
       "        <tr>\n",
       "            <td>PSY420P</td>\n",
       "            <td>88</td>\n",
       "            <td>3</td>\n",
       "            <td>1</td>\n",
       "            <td>0</td>\n",
       "        </tr>\n",
       "    </tbody>\n",
       "</table>"
      ],
      "text/plain": [
       "[('CS303E', 78, 3, 0, 0),\n",
       " ('PSY317L', 87, 3, 1, 0),\n",
       " ('AFR305', 91, 3, 0, 1),\n",
       " ('PSY420M', 86, 3, 1, 0),\n",
       " ('PSY420P', 88, 3, 1, 0)]"
      ]
     },
     "execution_count": 17,
     "metadata": {},
     "output_type": "execute_result"
    }
   ],
   "source": [
    "%%sql\n",
    "select * from grades;\n"
   ]
  },
  {
   "cell_type": "markdown",
   "id": "9ca3347b",
   "metadata": {},
   "source": [
    "# Where\n",
    "This is used to filter data based on specified criteria. For example, the following SQL statement retrieves orders with a price greater than 1.4:"
   ]
  },
  {
   "cell_type": "code",
   "execution_count": 6,
   "id": "7e92d369",
   "metadata": {},
   "outputs": [
    {
     "name": "stdout",
     "output_type": "stream",
     "text": [
      " * sqlite://\n",
      "Done.\n"
     ]
    },
    {
     "data": {
      "text/html": [
       "<table>\n",
       "    <thead>\n",
       "        <tr>\n",
       "            <th>key</th>\n",
       "            <th>ts</th>\n",
       "            <th>product</th>\n",
       "            <th>completed</th>\n",
       "            <th>price</th>\n",
       "        </tr>\n",
       "    </thead>\n",
       "    <tbody>\n",
       "        <tr>\n",
       "            <td>sale_5</td>\n",
       "            <td>2019-11-08 02:00</td>\n",
       "            <td>102008</td>\n",
       "            <td>1</td>\n",
       "            <td>1.5</td>\n",
       "        </tr>\n",
       "        <tr>\n",
       "            <td>sale_6</td>\n",
       "            <td>2019-11-08 02:00</td>\n",
       "            <td>102913</td>\n",
       "            <td>1</td>\n",
       "            <td>1.5</td>\n",
       "        </tr>\n",
       "    </tbody>\n",
       "</table>"
      ],
      "text/plain": [
       "[('sale_5', '2019-11-08 02:00', 102008, 1, 1.5),\n",
       " ('sale_6', '2019-11-08 02:00', 102913, 1, 1.5)]"
      ]
     },
     "execution_count": 6,
     "metadata": {},
     "output_type": "execute_result"
    }
   ],
   "source": [
    "%%sql\n",
    "select * from sales\n",
    "where price > 1.4;\n"
   ]
  },
  {
   "cell_type": "code",
   "execution_count": 18,
   "id": "d8cb352c",
   "metadata": {},
   "outputs": [
    {
     "name": "stdout",
     "output_type": "stream",
     "text": [
      " * sqlite://\n",
      "Done.\n"
     ]
    },
    {
     "data": {
      "text/html": [
       "<table>\n",
       "    <thead>\n",
       "        <tr>\n",
       "            <th>class</th>\n",
       "            <th>grade</th>\n",
       "            <th>credit</th>\n",
       "            <th>major</th>\n",
       "            <th>minor</th>\n",
       "        </tr>\n",
       "    </thead>\n",
       "    <tbody>\n",
       "        <tr>\n",
       "            <td>PSY317L</td>\n",
       "            <td>87</td>\n",
       "            <td>3</td>\n",
       "            <td>1</td>\n",
       "            <td>0</td>\n",
       "        </tr>\n",
       "        <tr>\n",
       "            <td>PSY420M</td>\n",
       "            <td>86</td>\n",
       "            <td>3</td>\n",
       "            <td>1</td>\n",
       "            <td>0</td>\n",
       "        </tr>\n",
       "        <tr>\n",
       "            <td>PSY420P</td>\n",
       "            <td>88</td>\n",
       "            <td>3</td>\n",
       "            <td>1</td>\n",
       "            <td>0</td>\n",
       "        </tr>\n",
       "    </tbody>\n",
       "</table>"
      ],
      "text/plain": [
       "[('PSY317L', 87, 3, 1, 0), ('PSY420M', 86, 3, 1, 0), ('PSY420P', 88, 3, 1, 0)]"
      ]
     },
     "execution_count": 18,
     "metadata": {},
     "output_type": "execute_result"
    }
   ],
   "source": [
    "%%sql\n",
    "select * from grades\n",
    "where major = 1;"
   ]
  },
  {
   "cell_type": "code",
   "execution_count": 19,
   "id": "402e2840",
   "metadata": {},
   "outputs": [
    {
     "name": "stdout",
     "output_type": "stream",
     "text": [
      " * sqlite://\n",
      "Done.\n"
     ]
    },
    {
     "data": {
      "text/html": [
       "<table>\n",
       "    <thead>\n",
       "        <tr>\n",
       "            <th>class</th>\n",
       "            <th>grade</th>\n",
       "            <th>credit</th>\n",
       "            <th>major</th>\n",
       "            <th>minor</th>\n",
       "        </tr>\n",
       "    </thead>\n",
       "    <tbody>\n",
       "        <tr>\n",
       "            <td>CS303E</td>\n",
       "            <td>78</td>\n",
       "            <td>3</td>\n",
       "            <td>0</td>\n",
       "            <td>0</td>\n",
       "        </tr>\n",
       "        <tr>\n",
       "            <td>AFR305</td>\n",
       "            <td>91</td>\n",
       "            <td>3</td>\n",
       "            <td>0</td>\n",
       "            <td>1</td>\n",
       "        </tr>\n",
       "    </tbody>\n",
       "</table>"
      ],
      "text/plain": [
       "[('CS303E', 78, 3, 0, 0), ('AFR305', 91, 3, 0, 1)]"
      ]
     },
     "execution_count": 19,
     "metadata": {},
     "output_type": "execute_result"
    }
   ],
   "source": [
    "%%sql\n",
    "select * from grades\n",
    "where major = 0;"
   ]
  },
  {
   "cell_type": "markdown",
   "id": "63c53bcb",
   "metadata": {},
   "source": [
    "# Insert into\n",
    "This is used to insert new data into a table. You must specify the table name and the values you want to insert into each column. For example:"
   ]
  },
  {
   "cell_type": "code",
   "execution_count": 7,
   "id": "e201f545",
   "metadata": {},
   "outputs": [
    {
     "name": "stdout",
     "output_type": "stream",
     "text": [
      " * sqlite://\n",
      "1 rows affected.\n"
     ]
    },
    {
     "data": {
      "text/plain": [
       "[]"
      ]
     },
     "execution_count": 7,
     "metadata": {},
     "output_type": "execute_result"
    }
   ],
   "source": [
    "%%sql\n",
    "insert into sales (key, ts, product, completed, price)\n",
    "values ('sale_7', '2019-11-09 02:00', 102135, TRUE, 1.6);\n"
   ]
  },
  {
   "cell_type": "code",
   "execution_count": 20,
   "id": "395296e3",
   "metadata": {},
   "outputs": [
    {
     "name": "stdout",
     "output_type": "stream",
     "text": [
      " * sqlite://\n",
      "1 rows affected.\n"
     ]
    },
    {
     "data": {
      "text/plain": [
       "[]"
      ]
     },
     "execution_count": 20,
     "metadata": {},
     "output_type": "execute_result"
    }
   ],
   "source": [
    "%%sql\n",
    "insert into grades (class,grade,credit,major,minor)\n",
    "values ('ITD301', 88, 1, FALSE, FALSE);"
   ]
  },
  {
   "cell_type": "code",
   "execution_count": 8,
   "id": "dd1fe8ca",
   "metadata": {},
   "outputs": [
    {
     "name": "stdout",
     "output_type": "stream",
     "text": [
      " * sqlite://\n",
      "Done.\n"
     ]
    },
    {
     "data": {
      "text/html": [
       "<table>\n",
       "    <thead>\n",
       "        <tr>\n",
       "            <th>key</th>\n",
       "            <th>ts</th>\n",
       "            <th>product</th>\n",
       "            <th>completed</th>\n",
       "            <th>price</th>\n",
       "        </tr>\n",
       "    </thead>\n",
       "    <tbody>\n",
       "        <tr>\n",
       "            <td>sale_1</td>\n",
       "            <td>2019-11-08 00:00</td>\n",
       "            <td>102230</td>\n",
       "            <td>1</td>\n",
       "            <td>1.1</td>\n",
       "        </tr>\n",
       "        <tr>\n",
       "            <td>sale_2</td>\n",
       "            <td>2019-11-08 01:00</td>\n",
       "            <td>102320</td>\n",
       "            <td>0</td>\n",
       "            <td>1.2</td>\n",
       "        </tr>\n",
       "        <tr>\n",
       "            <td>sale_3</td>\n",
       "            <td>2019-11-08 01:00</td>\n",
       "            <td>102010</td>\n",
       "            <td>1</td>\n",
       "            <td>1.3</td>\n",
       "        </tr>\n",
       "        <tr>\n",
       "            <td>sale_4</td>\n",
       "            <td>2019-11-08 01:00</td>\n",
       "            <td>102023</td>\n",
       "            <td>0</td>\n",
       "            <td>1.4</td>\n",
       "        </tr>\n",
       "        <tr>\n",
       "            <td>sale_5</td>\n",
       "            <td>2019-11-08 02:00</td>\n",
       "            <td>102008</td>\n",
       "            <td>1</td>\n",
       "            <td>1.5</td>\n",
       "        </tr>\n",
       "        <tr>\n",
       "            <td>sale_6</td>\n",
       "            <td>2019-11-08 02:00</td>\n",
       "            <td>102913</td>\n",
       "            <td>1</td>\n",
       "            <td>1.5</td>\n",
       "        </tr>\n",
       "        <tr>\n",
       "            <td>sale_7</td>\n",
       "            <td>2019-11-09 02:00</td>\n",
       "            <td>102135</td>\n",
       "            <td>1</td>\n",
       "            <td>1.6</td>\n",
       "        </tr>\n",
       "    </tbody>\n",
       "</table>"
      ],
      "text/plain": [
       "[('sale_1', '2019-11-08 00:00', 102230, 1, 1.1),\n",
       " ('sale_2', '2019-11-08 01:00', 102320, 0, 1.2),\n",
       " ('sale_3', '2019-11-08 01:00', 102010, 1, 1.3),\n",
       " ('sale_4', '2019-11-08 01:00', 102023, 0, 1.4),\n",
       " ('sale_5', '2019-11-08 02:00', 102008, 1, 1.5),\n",
       " ('sale_6', '2019-11-08 02:00', 102913, 1, 1.5),\n",
       " ('sale_7', '2019-11-09 02:00', 102135, 1, 1.6)]"
      ]
     },
     "execution_count": 8,
     "metadata": {},
     "output_type": "execute_result"
    }
   ],
   "source": [
    "%%sql\n",
    "select * from sales;\n"
   ]
  },
  {
   "cell_type": "code",
   "execution_count": 21,
   "id": "ffe3a983",
   "metadata": {},
   "outputs": [
    {
     "name": "stdout",
     "output_type": "stream",
     "text": [
      " * sqlite://\n",
      "Done.\n"
     ]
    },
    {
     "data": {
      "text/html": [
       "<table>\n",
       "    <thead>\n",
       "        <tr>\n",
       "            <th>class</th>\n",
       "            <th>grade</th>\n",
       "            <th>credit</th>\n",
       "            <th>major</th>\n",
       "            <th>minor</th>\n",
       "        </tr>\n",
       "    </thead>\n",
       "    <tbody>\n",
       "        <tr>\n",
       "            <td>CS303E</td>\n",
       "            <td>78</td>\n",
       "            <td>3</td>\n",
       "            <td>0</td>\n",
       "            <td>0</td>\n",
       "        </tr>\n",
       "        <tr>\n",
       "            <td>PSY317L</td>\n",
       "            <td>87</td>\n",
       "            <td>3</td>\n",
       "            <td>1</td>\n",
       "            <td>0</td>\n",
       "        </tr>\n",
       "        <tr>\n",
       "            <td>AFR305</td>\n",
       "            <td>91</td>\n",
       "            <td>3</td>\n",
       "            <td>0</td>\n",
       "            <td>1</td>\n",
       "        </tr>\n",
       "        <tr>\n",
       "            <td>PSY420M</td>\n",
       "            <td>86</td>\n",
       "            <td>3</td>\n",
       "            <td>1</td>\n",
       "            <td>0</td>\n",
       "        </tr>\n",
       "        <tr>\n",
       "            <td>PSY420P</td>\n",
       "            <td>88</td>\n",
       "            <td>3</td>\n",
       "            <td>1</td>\n",
       "            <td>0</td>\n",
       "        </tr>\n",
       "        <tr>\n",
       "            <td>ITD301</td>\n",
       "            <td>88</td>\n",
       "            <td>1</td>\n",
       "            <td>0</td>\n",
       "            <td>0</td>\n",
       "        </tr>\n",
       "    </tbody>\n",
       "</table>"
      ],
      "text/plain": [
       "[('CS303E', 78, 3, 0, 0),\n",
       " ('PSY317L', 87, 3, 1, 0),\n",
       " ('AFR305', 91, 3, 0, 1),\n",
       " ('PSY420M', 86, 3, 1, 0),\n",
       " ('PSY420P', 88, 3, 1, 0),\n",
       " ('ITD301', 88, 1, 0, 0)]"
      ]
     },
     "execution_count": 21,
     "metadata": {},
     "output_type": "execute_result"
    }
   ],
   "source": [
    "%%sql\n",
    "select * from grades;"
   ]
  },
  {
   "cell_type": "markdown",
   "id": "0a7bd5fb",
   "metadata": {},
   "source": [
    "# UPDATE\n",
    "This is used to update existing data in a table. You must specify the table name, the column(s) to update, and the new value(s) for the column(s). You can also use WHERE to specify which rows to update. First we'll use ALTER TABLE to ADD COLUMN to sales. For example:"
   ]
  },
  {
   "cell_type": "code",
   "execution_count": 9,
   "id": "604689b8",
   "metadata": {},
   "outputs": [
    {
     "name": "stdout",
     "output_type": "stream",
     "text": [
      " * sqlite://\n",
      "Done.\n",
      "1 rows affected.\n",
      "Done.\n"
     ]
    },
    {
     "data": {
      "text/html": [
       "<table>\n",
       "    <thead>\n",
       "        <tr>\n",
       "            <th>key</th>\n",
       "            <th>ts</th>\n",
       "            <th>product</th>\n",
       "            <th>completed</th>\n",
       "            <th>price</th>\n",
       "            <th>name</th>\n",
       "        </tr>\n",
       "    </thead>\n",
       "    <tbody>\n",
       "        <tr>\n",
       "            <td>sale_1</td>\n",
       "            <td>2019-11-08 00:00</td>\n",
       "            <td>102230</td>\n",
       "            <td>1</td>\n",
       "            <td>1.1</td>\n",
       "            <td>shannon</td>\n",
       "        </tr>\n",
       "        <tr>\n",
       "            <td>sale_2</td>\n",
       "            <td>2019-11-08 01:00</td>\n",
       "            <td>102320</td>\n",
       "            <td>0</td>\n",
       "            <td>1.2</td>\n",
       "            <td>None</td>\n",
       "        </tr>\n",
       "        <tr>\n",
       "            <td>sale_3</td>\n",
       "            <td>2019-11-08 01:00</td>\n",
       "            <td>102010</td>\n",
       "            <td>1</td>\n",
       "            <td>1.3</td>\n",
       "            <td>None</td>\n",
       "        </tr>\n",
       "        <tr>\n",
       "            <td>sale_4</td>\n",
       "            <td>2019-11-08 01:00</td>\n",
       "            <td>102023</td>\n",
       "            <td>0</td>\n",
       "            <td>1.4</td>\n",
       "            <td>None</td>\n",
       "        </tr>\n",
       "        <tr>\n",
       "            <td>sale_5</td>\n",
       "            <td>2019-11-08 02:00</td>\n",
       "            <td>102008</td>\n",
       "            <td>1</td>\n",
       "            <td>1.5</td>\n",
       "            <td>None</td>\n",
       "        </tr>\n",
       "        <tr>\n",
       "            <td>sale_6</td>\n",
       "            <td>2019-11-08 02:00</td>\n",
       "            <td>102913</td>\n",
       "            <td>1</td>\n",
       "            <td>1.5</td>\n",
       "            <td>None</td>\n",
       "        </tr>\n",
       "        <tr>\n",
       "            <td>sale_7</td>\n",
       "            <td>2019-11-09 02:00</td>\n",
       "            <td>102135</td>\n",
       "            <td>1</td>\n",
       "            <td>1.6</td>\n",
       "            <td>None</td>\n",
       "        </tr>\n",
       "    </tbody>\n",
       "</table>"
      ],
      "text/plain": [
       "[('sale_1', '2019-11-08 00:00', 102230, 1, 1.1, 'shannon'),\n",
       " ('sale_2', '2019-11-08 01:00', 102320, 0, 1.2, None),\n",
       " ('sale_3', '2019-11-08 01:00', 102010, 1, 1.3, None),\n",
       " ('sale_4', '2019-11-08 01:00', 102023, 0, 1.4, None),\n",
       " ('sale_5', '2019-11-08 02:00', 102008, 1, 1.5, None),\n",
       " ('sale_6', '2019-11-08 02:00', 102913, 1, 1.5, None),\n",
       " ('sale_7', '2019-11-09 02:00', 102135, 1, 1.6, None)]"
      ]
     },
     "execution_count": 9,
     "metadata": {},
     "output_type": "execute_result"
    }
   ],
   "source": [
    "%%sql\n",
    "alter table sales\n",
    "add column name text;\n",
    "\n",
    "update sales\n",
    "set name = 'shannon'\n",
    "where key = 'sale_1';\n",
    "\n",
    "\n",
    "select * from sales;"
   ]
  },
  {
   "cell_type": "code",
   "execution_count": 22,
   "id": "671a3f8f",
   "metadata": {},
   "outputs": [
    {
     "name": "stdout",
     "output_type": "stream",
     "text": [
      " * sqlite://\n",
      "Done.\n",
      "1 rows affected.\n",
      "Done.\n"
     ]
    },
    {
     "data": {
      "text/html": [
       "<table>\n",
       "    <thead>\n",
       "        <tr>\n",
       "            <th>class</th>\n",
       "            <th>grade</th>\n",
       "            <th>credit</th>\n",
       "            <th>major</th>\n",
       "            <th>minor</th>\n",
       "            <th>topic</th>\n",
       "        </tr>\n",
       "    </thead>\n",
       "    <tbody>\n",
       "        <tr>\n",
       "            <td>CS303E</td>\n",
       "            <td>78</td>\n",
       "            <td>3</td>\n",
       "            <td>0</td>\n",
       "            <td>0</td>\n",
       "            <td>Intro to computer science</td>\n",
       "        </tr>\n",
       "        <tr>\n",
       "            <td>PSY317L</td>\n",
       "            <td>87</td>\n",
       "            <td>3</td>\n",
       "            <td>1</td>\n",
       "            <td>0</td>\n",
       "            <td>None</td>\n",
       "        </tr>\n",
       "        <tr>\n",
       "            <td>AFR305</td>\n",
       "            <td>91</td>\n",
       "            <td>3</td>\n",
       "            <td>0</td>\n",
       "            <td>1</td>\n",
       "            <td>None</td>\n",
       "        </tr>\n",
       "        <tr>\n",
       "            <td>PSY420M</td>\n",
       "            <td>86</td>\n",
       "            <td>3</td>\n",
       "            <td>1</td>\n",
       "            <td>0</td>\n",
       "            <td>None</td>\n",
       "        </tr>\n",
       "        <tr>\n",
       "            <td>PSY420P</td>\n",
       "            <td>88</td>\n",
       "            <td>3</td>\n",
       "            <td>1</td>\n",
       "            <td>0</td>\n",
       "            <td>None</td>\n",
       "        </tr>\n",
       "        <tr>\n",
       "            <td>ITD301</td>\n",
       "            <td>88</td>\n",
       "            <td>1</td>\n",
       "            <td>0</td>\n",
       "            <td>0</td>\n",
       "            <td>None</td>\n",
       "        </tr>\n",
       "    </tbody>\n",
       "</table>"
      ],
      "text/plain": [
       "[('CS303E', 78, 3, 0, 0, 'Intro to computer science'),\n",
       " ('PSY317L', 87, 3, 1, 0, None),\n",
       " ('AFR305', 91, 3, 0, 1, None),\n",
       " ('PSY420M', 86, 3, 1, 0, None),\n",
       " ('PSY420P', 88, 3, 1, 0, None),\n",
       " ('ITD301', 88, 1, 0, 0, None)]"
      ]
     },
     "execution_count": 22,
     "metadata": {},
     "output_type": "execute_result"
    }
   ],
   "source": [
    "%%sql\n",
    "alter table grades\n",
    "add column topic text;\n",
    "\n",
    "update grades\n",
    "set topic = 'Intro to computer science'\n",
    "where class = 'CS303E';\n",
    "\n",
    "select * from grades"
   ]
  },
  {
   "cell_type": "code",
   "execution_count": null,
   "id": "bbf2ce10",
   "metadata": {},
   "outputs": [],
   "source": []
  }
 ],
 "metadata": {
  "kernelspec": {
   "display_name": "Python 3 (ipykernel)",
   "language": "python",
   "name": "python3"
  },
  "language_info": {
   "codemirror_mode": {
    "name": "ipython",
    "version": 3
   },
   "file_extension": ".py",
   "mimetype": "text/x-python",
   "name": "python",
   "nbconvert_exporter": "python",
   "pygments_lexer": "ipython3",
   "version": "3.9.12"
  }
 },
 "nbformat": 4,
 "nbformat_minor": 5
}
